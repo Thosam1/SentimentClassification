{
 "cells": [
  {
   "metadata": {
    "ExecuteTime": {
     "end_time": "2025-05-30T00:04:03.953589Z",
     "start_time": "2025-05-30T00:04:03.940245Z"
    }
   },
   "cell_type": "code",
   "source": [
    "import importlib\n",
    "import sys\n",
    "\n",
    "sys.path.append(\"..\")  # Ensure the parent directory is in the path\n",
    "\n",
    "# --- Local Application/Module Imports ---\n",
    "import data_loader.data_loader\n",
    "import models.models\n",
    "import visualizations.visualizations\n",
    "import utils.utils\n",
    "\n",
    "importlib.reload(data_loader.data_loader)\n",
    "from data_loader.data_loader import *\n",
    "\n",
    "importlib.reload(models.models)\n",
    "from models.models import *\n",
    "\n",
    "importlib.reload(visualizations.visualizations)\n",
    "from visualizations.visualizations import *\n",
    "\n",
    "importlib.reload(utils.utils)\n",
    "from utils.utils import *\n",
    "\n",
    "# --- Notebook Configuration ---\n",
    "%matplotlib inline\n",
    "%config InlineBackend.figure_format='retina'\n",
    "\n",
    "# --- Global Settings ---\n",
    "sns.set(style='whitegrid', palette='muted', font_scale=1.2)\n",
    "os.environ[\"TOKENIZERS_PARALLELISM\"] = \"false\""
   ],
   "id": "d8e5a5a8057aca6a",
   "outputs": [],
   "execution_count": 7
  },
  {
   "metadata": {
    "ExecuteTime": {
     "end_time": "2025-05-30T00:04:04.408817Z",
     "start_time": "2025-05-30T00:04:04.275282Z"
    }
   },
   "cell_type": "code",
   "source": [
    "train_df, val_df, test_df = load_and_split_data()\n",
    "\n",
    "print(\"Train size:\", len(train_df))\n",
    "print(\"Validation size:\", len(val_df))\n",
    "print(\"Test size:\", len(test_df))"
   ],
   "id": "39063b443e032ef",
   "outputs": [
    {
     "name": "stdout",
     "output_type": "stream",
     "text": [
      "Train size: 81677\n",
      "Validation size: 10210\n",
      "Test size: 10210\n"
     ]
    }
   ],
   "execution_count": 8
  },
  {
   "metadata": {
    "ExecuteTime": {
     "end_time": "2025-05-30T00:04:04.838394Z",
     "start_time": "2025-05-30T00:04:04.835396Z"
    }
   },
   "cell_type": "code",
   "source": [
    "device = get_device()\n",
    "print(f\"Using device: {device}\")"
   ],
   "id": "d67d9a7e63135047",
   "outputs": [
    {
     "name": "stdout",
     "output_type": "stream",
     "text": [
      "Using device: mps\n"
     ]
    }
   ],
   "execution_count": 9
  },
  {
   "metadata": {
    "ExecuteTime": {
     "end_time": "2025-05-30T00:04:05.267983Z",
     "start_time": "2025-05-30T00:04:05.265615Z"
    }
   },
   "cell_type": "code",
   "source": "config = load_config_base()",
   "id": "f9aa4b36b6f29e49",
   "outputs": [],
   "execution_count": 10
  },
  {
   "metadata": {
    "ExecuteTime": {
     "end_time": "2025-05-30T00:04:05.711386Z",
     "start_time": "2025-05-30T00:04:05.692655Z"
    }
   },
   "cell_type": "code",
   "source": "submission_df = load_submission_data()",
   "id": "ef2e71976cf4ff31",
   "outputs": [],
   "execution_count": 11
  },
  {
   "metadata": {},
   "cell_type": "markdown",
   "source": "# Deberta-v3-large Submission",
   "id": "71b3d2189b3199d8"
  },
  {
   "metadata": {
    "ExecuteTime": {
     "end_time": "2025-05-30T00:06:12.956231Z",
     "start_time": "2025-05-30T00:04:06.566251Z"
    }
   },
   "cell_type": "code",
   "source": [
    "model_name = \"microsoft/deberta-v3-large\"\n",
    "model_path = \"../fine_tuned_models/deberta-v3-large.bin\"\n",
    "\n",
    "dl_model, loss_fn, submission_data_loader = load_model_with_data_loader(config, model_name, model_path, submission_df)\n",
    "\n",
    "y_review_texts, y_pred_dl, y_pred_probs_dl, y_test = get_predictions(\n",
    "    dl_model,\n",
    "    submission_data_loader,\n",
    "    device\n",
    ")"
   ],
   "id": "665f0fba5eb2ad0a",
   "outputs": [
    {
     "name": "stderr",
     "output_type": "stream",
     "text": [
      "/Users/tnorlha/miniconda3/lib/python3.12/site-packages/transformers/convert_slow_tokenizer.py:564: UserWarning: The sentencepiece tokenizer that you are converting to a fast tokenizer uses the byte fallback option which is not implemented in the fast tokenizers. In practice this means that the fast version of the tokenizer can produce unknown tokens whereas the sentencepiece version would have converted these unknown tokens into a sequence of byte tokens matching the original piece of text.\n",
      "  warnings.warn(\n",
      "Some weights of DebertaV2ForSequenceClassification were not initialized from the model checkpoint at microsoft/deberta-v3-large and are newly initialized: ['classifier.bias', 'classifier.weight', 'pooler.dense.bias', 'pooler.dense.weight']\n",
      "You should probably TRAIN this model on a down-stream task to be able to use it for predictions and inference.\n"
     ]
    }
   ],
   "execution_count": 12
  },
  {
   "metadata": {
    "ExecuteTime": {
     "end_time": "2025-05-30T00:16:07.659641Z",
     "start_time": "2025-05-30T00:16:07.642780Z"
    }
   },
   "cell_type": "code",
   "source": [
    "label_map = {0: \"negative\", 1: \"neutral\", 2: \"positive\"}\n",
    "generate_submission(y_pred_dl, label_map=label_map, output_path=\"../submissions/deberta_large_submission.csv\")"
   ],
   "id": "4819cf128fd8028b",
   "outputs": [
    {
     "name": "stdout",
     "output_type": "stream",
     "text": [
      "Submission file saved to ../submissions/deberta_large_submission.csv\n"
     ]
    }
   ],
   "execution_count": 18
  },
  {
   "metadata": {},
   "cell_type": "code",
   "outputs": [],
   "execution_count": null,
   "source": "",
   "id": "5d246de1cbfd20ba"
  },
  {
   "metadata": {},
   "cell_type": "markdown",
   "source": [
    "# Aggregation Submissions\n",
    "\n",
    "## distilbert-base-multilingual-cased"
   ],
   "id": "f45397561c6e450"
  },
  {
   "metadata": {
    "ExecuteTime": {
     "end_time": "2025-05-30T00:12:11.677635Z",
     "start_time": "2025-05-30T00:11:32.068275Z"
    }
   },
   "cell_type": "code",
   "source": [
    "model_name = \"distilbert/distilbert-base-multilingual-cased\"\n",
    "model_path = \"../fine_tuned_models/distilbert-base-multilingual-cased.bin\"\n",
    "\n",
    "dbmc_model, loss_fn, submission_data_loader = load_model_with_data_loader(config, model_name, model_path, submission_df)\n",
    "\n",
    "y_review_texts, y_pred_dbmc, y_pred_probs_dbmc, y_test = get_predictions(\n",
    "    dbmc_model,\n",
    "    submission_data_loader,\n",
    "    device\n",
    ")"
   ],
   "id": "1fc497592723113d",
   "outputs": [
    {
     "name": "stderr",
     "output_type": "stream",
     "text": [
      "Some weights of DistilBertForSequenceClassification were not initialized from the model checkpoint at distilbert/distilbert-base-multilingual-cased and are newly initialized: ['classifier.bias', 'classifier.weight', 'pre_classifier.bias', 'pre_classifier.weight']\n",
      "You should probably TRAIN this model on a down-stream task to be able to use it for predictions and inference.\n"
     ]
    }
   ],
   "execution_count": 15
  },
  {
   "metadata": {},
   "cell_type": "markdown",
   "source": "## roberta-large",
   "id": "41581289f11a8f4"
  },
  {
   "metadata": {
    "ExecuteTime": {
     "end_time": "2025-05-30T00:13:42.347474Z",
     "start_time": "2025-05-30T00:12:11.689179Z"
    }
   },
   "cell_type": "code",
   "source": [
    "model_name = \"FacebookAI/roberta-large\"\n",
    "model_path = \"../fine_tuned_models/roberta-large.bin\"\n",
    "\n",
    "rl_model, loss_fn, submission_data_loader = load_model_with_data_loader(config, model_name, model_path, submission_df)\n",
    "\n",
    "y_review_texts, y_pred_rl, y_pred_probs_rl, y_test = get_predictions(\n",
    "    rl_model,\n",
    "    submission_data_loader,\n",
    "    device\n",
    ")"
   ],
   "id": "667d5150ba86ad3d",
   "outputs": [
    {
     "name": "stderr",
     "output_type": "stream",
     "text": [
      "Some weights of RobertaForSequenceClassification were not initialized from the model checkpoint at FacebookAI/roberta-large and are newly initialized: ['classifier.dense.bias', 'classifier.dense.weight', 'classifier.out_proj.bias', 'classifier.out_proj.weight']\n",
      "You should probably TRAIN this model on a down-stream task to be able to use it for predictions and inference.\n"
     ]
    }
   ],
   "execution_count": 16
  },
  {
   "metadata": {},
   "cell_type": "markdown",
   "source": "## deberta-v3-base",
   "id": "ac6acef11306eb3e"
  },
  {
   "metadata": {
    "ExecuteTime": {
     "end_time": "2025-05-30T00:14:42.469519Z",
     "start_time": "2025-05-30T00:13:42.364083Z"
    }
   },
   "cell_type": "code",
   "source": [
    "model_name = \"microsoft/deberta-v3-base\"\n",
    "model_path = \"../fine_tuned_models/deberta-v3-base.bin\"\n",
    "\n",
    "db_model, loss_fn, submission_data_loader = load_model_with_data_loader(config, model_name, model_path, submission_df)\n",
    "\n",
    "y_review_texts, y_pred_db, y_pred_probs_db, y_test = get_predictions(\n",
    "    db_model,\n",
    "    submission_data_loader,\n",
    "    device\n",
    ")"
   ],
   "id": "7c67f5840da99645",
   "outputs": [
    {
     "name": "stderr",
     "output_type": "stream",
     "text": [
      "/Users/tnorlha/miniconda3/lib/python3.12/site-packages/transformers/convert_slow_tokenizer.py:564: UserWarning: The sentencepiece tokenizer that you are converting to a fast tokenizer uses the byte fallback option which is not implemented in the fast tokenizers. In practice this means that the fast version of the tokenizer can produce unknown tokens whereas the sentencepiece version would have converted these unknown tokens into a sequence of byte tokens matching the original piece of text.\n",
      "  warnings.warn(\n",
      "Some weights of DebertaV2ForSequenceClassification were not initialized from the model checkpoint at microsoft/deberta-v3-base and are newly initialized: ['classifier.bias', 'classifier.weight', 'pooler.dense.bias', 'pooler.dense.weight']\n",
      "You should probably TRAIN this model on a down-stream task to be able to use it for predictions and inference.\n"
     ]
    }
   ],
   "execution_count": 17
  },
  {
   "metadata": {},
   "cell_type": "code",
   "outputs": [],
   "execution_count": null,
   "source": "",
   "id": "65e85aebbbb98f4d"
  },
  {
   "metadata": {},
   "cell_type": "markdown",
   "source": "# Majority Voting",
   "id": "ce74ec964ece3190"
  },
  {
   "metadata": {
    "ExecuteTime": {
     "end_time": "2025-05-30T00:16:29.625902Z",
     "start_time": "2025-05-30T00:16:29.586698Z"
    }
   },
   "cell_type": "code",
   "source": [
    "final_preds_majority = predict_with_ensemble(\n",
    "    preds_list=[y_pred_dl, y_pred_rl, y_pred_db, y_pred_dbmc],\n",
    "    strategy=\"majority\"\n",
    ")"
   ],
   "id": "63ad508dbfdaff76",
   "outputs": [],
   "execution_count": 19
  },
  {
   "metadata": {
    "ExecuteTime": {
     "end_time": "2025-05-30T00:16:30.561369Z",
     "start_time": "2025-05-30T00:16:30.545553Z"
    }
   },
   "cell_type": "code",
   "source": [
    "label_map = {0: \"negative\", 1: \"neutral\", 2: \"positive\"}\n",
    "generate_submission(final_preds_majority, label_map=label_map, output_path=\"../submissions/majority_voting_submission.csv\")"
   ],
   "id": "f0f34f2626f4d03a",
   "outputs": [
    {
     "name": "stdout",
     "output_type": "stream",
     "text": [
      "Submission file saved to ../submissions/majority_voting_submission.csv\n"
     ]
    }
   ],
   "execution_count": 20
  },
  {
   "metadata": {},
   "cell_type": "markdown",
   "source": "# Softmax Averaging",
   "id": "264565858796a499"
  },
  {
   "metadata": {
    "ExecuteTime": {
     "end_time": "2025-05-30T00:16:32.469854Z",
     "start_time": "2025-05-30T00:16:32.463911Z"
    }
   },
   "cell_type": "code",
   "source": [
    "final_preds_softmax_avg = predict_with_ensemble(\n",
    "    preds_list=[y_pred_dl, y_pred_rl, y_pred_db, y_pred_dbmc],\n",
    "    probs_list=[y_pred_probs_dl, y_pred_probs_rl, y_pred_probs_db, y_pred_probs_dbmc],\n",
    "    strategy=\"softmax_avg\"\n",
    ")"
   ],
   "id": "a8b348fcc3c5413b",
   "outputs": [],
   "execution_count": 21
  },
  {
   "metadata": {
    "ExecuteTime": {
     "end_time": "2025-05-30T00:16:33.005494Z",
     "start_time": "2025-05-30T00:16:32.991545Z"
    }
   },
   "cell_type": "code",
   "source": [
    "label_map = {0: \"negative\", 1: \"neutral\", 2: \"positive\"}\n",
    "generate_submission(final_preds_softmax_avg, label_map=label_map, output_path=\"../submissions/softmax_averaging_submission.csv\")"
   ],
   "id": "c6a96a3c1021dd18",
   "outputs": [
    {
     "name": "stdout",
     "output_type": "stream",
     "text": [
      "Submission file saved to ../submissions/softmax_averaging_submission.csv\n"
     ]
    }
   ],
   "execution_count": 22
  },
  {
   "metadata": {},
   "cell_type": "code",
   "outputs": [],
   "execution_count": null,
   "source": "",
   "id": "5cad7e94d76b9737"
  }
 ],
 "metadata": {
  "kernelspec": {
   "display_name": "Python 3",
   "language": "python",
   "name": "python3"
  },
  "language_info": {
   "codemirror_mode": {
    "name": "ipython",
    "version": 2
   },
   "file_extension": ".py",
   "mimetype": "text/x-python",
   "name": "python",
   "nbconvert_exporter": "python",
   "pygments_lexer": "ipython2",
   "version": "2.7.6"
  }
 },
 "nbformat": 4,
 "nbformat_minor": 5
}
