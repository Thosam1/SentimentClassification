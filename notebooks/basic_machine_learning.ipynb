{
 "cells": [
  {
   "metadata": {},
   "cell_type": "markdown",
   "source": "# Standard Machine Learning models",
   "id": "6c25c992f5b80ad9"
  },
  {
   "metadata": {
    "ExecuteTime": {
     "end_time": "2025-05-22T16:06:48.957289Z",
     "start_time": "2025-05-22T16:06:48.944780Z"
    }
   },
   "cell_type": "code",
   "source": [
    "import importlib\n",
    "import sys\n",
    "import os\n",
    "\n",
    "sys.path.append(\"..\")  # Ensure the parent directory is in the path\n",
    "\n",
    "from sklearn.metrics import classification_report\n",
    "\n",
    "# --- Local Application/Module Imports ---\n",
    "import data_loader.data_loader\n",
    "import data_preprocessing.data_preprocessing\n",
    "import models.standard_ml_models\n",
    "import visualizations.visualizations\n",
    "import utils.utils\n",
    "\n",
    "importlib.reload(data_loader.data_loader)\n",
    "from data_loader.data_loader import *\n",
    "\n",
    "importlib.reload(data_preprocessing.data_preprocessing)\n",
    "from data_preprocessing.data_preprocessing import *\n",
    "\n",
    "importlib.reload(models.standard_ml_models)\n",
    "from models.standard_ml_models import *\n",
    "\n",
    "importlib.reload(visualizations.visualizations)\n",
    "from visualizations.visualizations import *\n",
    "\n",
    "importlib.reload(utils.utils)\n",
    "from utils.utils import *\n",
    "\n",
    "# --- Notebook Configuration ---\n",
    "%matplotlib inline\n",
    "%config InlineBackend.figure_format='retina'\n",
    "\n",
    "# --- Global Settings ---\n",
    "sns.set(style='whitegrid', palette='muted', font_scale=1.2)\n",
    "os.environ[\"TOKENIZERS_PARALLELISM\"] = \"false\"\n"
   ],
   "id": "c4a4cc26a44cf154",
   "outputs": [],
   "execution_count": 28
  },
  {
   "metadata": {},
   "cell_type": "markdown",
   "source": "## Loading data and splitting into train, validation, and test sets",
   "id": "e0f434313ee302bd"
  },
  {
   "metadata": {
    "ExecuteTime": {
     "end_time": "2025-05-22T15:52:40.514862Z",
     "start_time": "2025-05-22T15:52:40.385608Z"
    }
   },
   "cell_type": "code",
   "source": [
    "train_df, val_df, test_df = load_and_split_data()\n",
    "\n",
    "print(\"Train size:\", len(train_df))\n",
    "print(\"Validation size:\", len(val_df))\n",
    "print(\"Test size:\", len(test_df))"
   ],
   "id": "78615802f0f8833a",
   "outputs": [
    {
     "name": "stdout",
     "output_type": "stream",
     "text": [
      "Train size: 81677\n",
      "Validation size: 10210\n",
      "Test size: 10210\n"
     ]
    }
   ],
   "execution_count": 2
  },
  {
   "metadata": {},
   "cell_type": "markdown",
   "source": "# Bag-of-words - Baseline models",
   "id": "e74138734bd8b710"
  },
  {
   "metadata": {
    "ExecuteTime": {
     "end_time": "2025-05-22T15:52:41.949477Z",
     "start_time": "2025-05-22T15:52:40.525909Z"
    }
   },
   "cell_type": "code",
   "source": "X_train, X_val, X_test, y_train, y_val, y_test, vectorizer = preprocess_text_with_count_vectorizer(train_df, val_df, test_df)",
   "id": "1b9c1e0518dc588d",
   "outputs": [],
   "execution_count": 3
  },
  {
   "metadata": {
    "ExecuteTime": {
     "end_time": "2025-05-22T15:52:43.690347Z",
     "start_time": "2025-05-22T15:52:41.957975Z"
    }
   },
   "cell_type": "code",
   "source": [
    "# Train a Logistic Regression model\n",
    "y_train_pred_lr, y_val_pred_lr, y_test_pred_lr, model_lr = train_and_predict_logistic_regression(X_train, y_train, X_val, X_test)"
   ],
   "id": "521daeba4efd9d08",
   "outputs": [
    {
     "name": "stderr",
     "output_type": "stream",
     "text": [
      "/Users/tnorlha/miniconda3/lib/python3.12/site-packages/sklearn/linear_model/_logistic.py:469: ConvergenceWarning: lbfgs failed to converge (status=1):\n",
      "STOP: TOTAL NO. OF ITERATIONS REACHED LIMIT.\n",
      "\n",
      "Increase the number of iterations (max_iter) or scale the data as shown in:\n",
      "    https://scikit-learn.org/stable/modules/preprocessing.html\n",
      "Please also refer to the documentation for alternative solver options:\n",
      "    https://scikit-learn.org/stable/modules/linear_model.html#logistic-regression\n",
      "  n_iter_i = _check_optimize_result(\n"
     ]
    }
   ],
   "execution_count": 4
  },
  {
   "metadata": {
    "ExecuteTime": {
     "end_time": "2025-05-22T16:04:47.033595Z",
     "start_time": "2025-05-22T16:04:47.022045Z"
    }
   },
   "cell_type": "code",
   "source": "print_evaluation(y_test, y_test_pred_lr)",
   "id": "c896cbb2b2bf674e",
   "outputs": [
    {
     "name": "stdout",
     "output_type": "stream",
     "text": [
      "              precision    recall  f1-score   support\n",
      "\n",
      "    negative       0.58      0.45      0.51      2191\n",
      "     neutral       0.69      0.82      0.75      4915\n",
      "    positive       0.68      0.59      0.63      3104\n",
      "\n",
      "    accuracy                           0.67     10210\n",
      "   macro avg       0.65      0.62      0.63     10210\n",
      "weighted avg       0.66      0.67      0.66     10210\n",
      "\n"
     ]
    }
   ],
   "execution_count": 24
  },
  {
   "metadata": {
    "ExecuteTime": {
     "end_time": "2025-05-22T16:07:06.237787Z",
     "start_time": "2025-05-22T16:07:06.233459Z"
    }
   },
   "cell_type": "code",
   "source": "print(L_score(y_test, y_test_pred_lr))",
   "id": "d52c302fcb8c28ec",
   "outputs": [
    {
     "name": "stdout",
     "output_type": "stream",
     "text": [
      "0.8007345739471107\n"
     ]
    }
   ],
   "execution_count": 29
  },
  {
   "metadata": {
    "ExecuteTime": {
     "end_time": "2025-05-22T15:52:53.283678Z",
     "start_time": "2025-05-22T15:52:43.721812Z"
    }
   },
   "cell_type": "code",
   "source": [
    "# Train a Random Forest model\n",
    "y_train_pred_rf, y_val_pred_rf, y_test_pred_rf, model_rf = train_and_predict_random_forest(X_train, y_train, X_val, X_test)"
   ],
   "id": "ee3a437c28906137",
   "outputs": [],
   "execution_count": 5
  },
  {
   "metadata": {
    "ExecuteTime": {
     "end_time": "2025-05-22T16:04:49.933171Z",
     "start_time": "2025-05-22T16:04:49.911008Z"
    }
   },
   "cell_type": "code",
   "source": "print_evaluation(y_test, y_test_pred_rf)",
   "id": "6a6927501a871514",
   "outputs": [
    {
     "name": "stdout",
     "output_type": "stream",
     "text": [
      "              precision    recall  f1-score   support\n",
      "\n",
      "    negative       0.61      0.28      0.39      2191\n",
      "     neutral       0.63      0.89      0.73      4915\n",
      "    positive       0.68      0.49      0.57      3104\n",
      "\n",
      "    accuracy                           0.64     10210\n",
      "   macro avg       0.64      0.55      0.57     10210\n",
      "weighted avg       0.64      0.64      0.61     10210\n",
      "\n"
     ]
    }
   ],
   "execution_count": 25
  },
  {
   "metadata": {
    "ExecuteTime": {
     "end_time": "2025-05-22T16:07:49.815481Z",
     "start_time": "2025-05-22T16:07:49.811470Z"
    }
   },
   "cell_type": "code",
   "source": "print(L_score(y_test, y_test_pred_rf))",
   "id": "8bcc13b9ee2b6677",
   "outputs": [
    {
     "name": "stdout",
     "output_type": "stream",
     "text": [
      "0.7923604309500489\n"
     ]
    }
   ],
   "execution_count": 30
  },
  {
   "metadata": {
    "ExecuteTime": {
     "end_time": "2025-05-22T15:52:54.856891Z",
     "start_time": "2025-05-22T15:52:53.293966Z"
    }
   },
   "cell_type": "code",
   "source": [
    "# Train a XGBoost model\n",
    "y_train_pred_xgb, y_val_pred_xgb, y_test_pred_xgb, model_xgb = train_and_predict_xgboost(X_train, y_train, X_val, X_test)"
   ],
   "id": "12e6f4dc316a9141",
   "outputs": [],
   "execution_count": 6
  },
  {
   "metadata": {
    "ExecuteTime": {
     "end_time": "2025-05-22T16:04:51.796381Z",
     "start_time": "2025-05-22T16:04:51.785013Z"
    }
   },
   "cell_type": "code",
   "source": "print_evaluation(y_test, y_test_pred_xgb)",
   "id": "b0edd2f56abf5ea7",
   "outputs": [
    {
     "name": "stdout",
     "output_type": "stream",
     "text": [
      "              precision    recall  f1-score   support\n",
      "\n",
      "    negative       0.67      0.29      0.41      2191\n",
      "     neutral       0.62      0.92      0.74      4915\n",
      "    positive       0.74      0.47      0.57      3104\n",
      "\n",
      "    accuracy                           0.65     10210\n",
      "   macro avg       0.68      0.56      0.58     10210\n",
      "weighted avg       0.67      0.65      0.62     10210\n",
      "\n"
     ]
    }
   ],
   "execution_count": 26
  },
  {
   "metadata": {
    "ExecuteTime": {
     "end_time": "2025-05-22T16:07:59.917841Z",
     "start_time": "2025-05-22T16:07:59.915638Z"
    }
   },
   "cell_type": "code",
   "source": "print(L_score(y_test, y_test_pred_xgb))",
   "id": "b0590323f529b80",
   "outputs": [
    {
     "name": "stdout",
     "output_type": "stream",
     "text": [
      "0.8027913809990206\n"
     ]
    }
   ],
   "execution_count": 31
  },
  {
   "metadata": {
    "ExecuteTime": {
     "end_time": "2025-05-22T15:54:04.663390Z",
     "start_time": "2025-05-22T15:52:54.867744Z"
    }
   },
   "cell_type": "code",
   "source": [
    "# Train a MLP model\n",
    "y_train_pred_mlp, y_val_pred_mlp, y_test_pred_mlp, model_mlp = train_and_predict_mlp(X_train, y_train, X_val, X_test)"
   ],
   "id": "485f30a1f3cd799b",
   "outputs": [
    {
     "name": "stderr",
     "output_type": "stream",
     "text": [
      "/Users/tnorlha/miniconda3/lib/python3.12/site-packages/sklearn/neural_network/_multilayer_perceptron.py:697: UserWarning: Training interrupted by user.\n",
      "  warnings.warn(\"Training interrupted by user.\")\n"
     ]
    }
   ],
   "execution_count": 7
  },
  {
   "metadata": {
    "ExecuteTime": {
     "end_time": "2025-05-22T16:04:56.357689Z",
     "start_time": "2025-05-22T16:04:56.346332Z"
    }
   },
   "cell_type": "code",
   "source": "print_evaluation(y_test, y_test_pred_mlp)",
   "id": "82f2cd1b220cb7ba",
   "outputs": [
    {
     "name": "stdout",
     "output_type": "stream",
     "text": [
      "              precision    recall  f1-score   support\n",
      "\n",
      "    negative       0.51      0.47      0.49      2191\n",
      "     neutral       0.71      0.75      0.73      4915\n",
      "    positive       0.62      0.60      0.61      3104\n",
      "\n",
      "    accuracy                           0.64     10210\n",
      "   macro avg       0.61      0.61      0.61     10210\n",
      "weighted avg       0.64      0.64      0.64     10210\n",
      "\n"
     ]
    }
   ],
   "execution_count": 27
  },
  {
   "metadata": {
    "ExecuteTime": {
     "end_time": "2025-05-22T16:08:13.850638Z",
     "start_time": "2025-05-22T16:08:13.847037Z"
    }
   },
   "cell_type": "code",
   "source": "print(L_score(y_test, y_test_pred_mlp))",
   "id": "42f75bd83c0b82cb",
   "outputs": [
    {
     "name": "stdout",
     "output_type": "stream",
     "text": [
      "0.7789911851126347\n"
     ]
    }
   ],
   "execution_count": 32
  },
  {
   "metadata": {},
   "cell_type": "markdown",
   "source": "# Data preprocessing",
   "id": "1ba3dfe49b9e5699"
  },
  {
   "metadata": {},
   "cell_type": "code",
   "outputs": [],
   "execution_count": null,
   "source": "",
   "id": "bcc4355cd13abd41"
  },
  {
   "metadata": {},
   "cell_type": "code",
   "outputs": [],
   "execution_count": null,
   "source": "",
   "id": "70097e3db0d62ebe"
  },
  {
   "metadata": {},
   "cell_type": "code",
   "outputs": [],
   "execution_count": null,
   "source": "",
   "id": "784a74f22652d890"
  },
  {
   "metadata": {},
   "cell_type": "code",
   "outputs": [],
   "execution_count": null,
   "source": "",
   "id": "e7cb9028a5c22ecc"
  },
  {
   "metadata": {},
   "cell_type": "code",
   "outputs": [],
   "execution_count": null,
   "source": "",
   "id": "45bbe5c788e740d8"
  },
  {
   "metadata": {},
   "cell_type": "code",
   "outputs": [],
   "execution_count": null,
   "source": "",
   "id": "d2e564d8be3c634d"
  },
  {
   "metadata": {},
   "cell_type": "code",
   "outputs": [],
   "execution_count": null,
   "source": "",
   "id": "dd34e3976a8cc92"
  }
 ],
 "metadata": {
  "kernelspec": {
   "display_name": "Python 3",
   "language": "python",
   "name": "python3"
  },
  "language_info": {
   "codemirror_mode": {
    "name": "ipython",
    "version": 2
   },
   "file_extension": ".py",
   "mimetype": "text/x-python",
   "name": "python",
   "nbconvert_exporter": "python",
   "pygments_lexer": "ipython2",
   "version": "2.7.6"
  }
 },
 "nbformat": 4,
 "nbformat_minor": 5
}
